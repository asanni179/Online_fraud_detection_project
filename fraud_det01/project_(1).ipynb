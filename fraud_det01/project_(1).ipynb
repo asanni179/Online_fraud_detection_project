{
  "cells": [
    {
      "cell_type": "code",
      "execution_count": null,
      "metadata": {
        "colab": {
          "base_uri": "https://localhost:8080/"
        },
        "id": "mkD1RcLAHden",
        "outputId": "8daa9fc2-59d2-4312-c22a-31461dc780be"
      },
      "outputs": [
        {
          "name": "stdout",
          "output_type": "stream",
          "text": [
            "Drive already mounted at /content/drive; to attempt to forcibly remount, call drive.mount(\"/content/drive\", force_remount=True).\n"
          ]
        }
      ],
      "source": [
        "from google.colab import drive\n",
        "drive.mount('/content/drive')"
      ]
    },
    {
      "cell_type": "markdown",
      "source": [],
      "metadata": {
        "id": "kC8g6Ca6ZnTh"
      }
    },
    {
      "cell_type": "code",
      "execution_count": null,
      "metadata": {
        "id": "5gsrNUK7Hccj"
      },
      "outputs": [],
      "source": [
        "import pandas as pd\n",
        "import numpy as np"
      ]
    },
    {
      "cell_type": "code",
      "execution_count": null,
      "metadata": {
        "id": "keLdotszHccm"
      },
      "outputs": [],
      "source": [
        "#Exploring a more complex dataset\n",
        "fraud = pd.read_csv('online_fraud.csv')\n",
        "fraud"
      ]
    },
    {
      "cell_type": "code",
      "execution_count": null,
      "metadata": {
        "colab": {
          "base_uri": "https://localhost:8080/",
          "height": 424
        },
        "id": "j3gBYyAbHccn",
        "outputId": "bdb7cdd5-e2c1-4c54-8d95-0f00bbee6579"
      },
      "outputs": [
        {
          "data": {
            "text/html": [
              "<div>\n",
              "<style scoped>\n",
              "    .dataframe tbody tr th:only-of-type {\n",
              "        vertical-align: middle;\n",
              "    }\n",
              "\n",
              "    .dataframe tbody tr th {\n",
              "        vertical-align: top;\n",
              "    }\n",
              "\n",
              "    .dataframe thead th {\n",
              "        text-align: right;\n",
              "    }\n",
              "</style>\n",
              "<table border=\"1\" class=\"dataframe\">\n",
              "  <thead>\n",
              "    <tr style=\"text-align: right;\">\n",
              "      <th></th>\n",
              "      <th>step</th>\n",
              "      <th>type</th>\n",
              "      <th>amount</th>\n",
              "      <th>nameOrig</th>\n",
              "      <th>oldbalanceOrg</th>\n",
              "      <th>newbalanceOrig</th>\n",
              "      <th>nameDest</th>\n",
              "      <th>oldbalanceDest</th>\n",
              "      <th>newbalanceDest</th>\n",
              "      <th>isFraud</th>\n",
              "      <th>isFlaggedFraud</th>\n",
              "    </tr>\n",
              "  </thead>\n",
              "  <tbody>\n",
              "    <tr>\n",
              "      <th>0</th>\n",
              "      <td>1</td>\n",
              "      <td>PAYMENT</td>\n",
              "      <td>9839.64</td>\n",
              "      <td>C1231006815</td>\n",
              "      <td>170136.00</td>\n",
              "      <td>160296.36</td>\n",
              "      <td>M1979787155</td>\n",
              "      <td>0.00</td>\n",
              "      <td>0.00</td>\n",
              "      <td>0</td>\n",
              "      <td>0</td>\n",
              "    </tr>\n",
              "    <tr>\n",
              "      <th>1</th>\n",
              "      <td>1</td>\n",
              "      <td>PAYMENT</td>\n",
              "      <td>1864.28</td>\n",
              "      <td>C1666544295</td>\n",
              "      <td>21249.00</td>\n",
              "      <td>19384.72</td>\n",
              "      <td>M2044282225</td>\n",
              "      <td>0.00</td>\n",
              "      <td>0.00</td>\n",
              "      <td>0</td>\n",
              "      <td>0</td>\n",
              "    </tr>\n",
              "    <tr>\n",
              "      <th>2</th>\n",
              "      <td>1</td>\n",
              "      <td>TRANSFER</td>\n",
              "      <td>181.00</td>\n",
              "      <td>C1305486145</td>\n",
              "      <td>181.00</td>\n",
              "      <td>0.00</td>\n",
              "      <td>C553264065</td>\n",
              "      <td>0.00</td>\n",
              "      <td>0.00</td>\n",
              "      <td>1</td>\n",
              "      <td>0</td>\n",
              "    </tr>\n",
              "    <tr>\n",
              "      <th>3</th>\n",
              "      <td>1</td>\n",
              "      <td>CASH_OUT</td>\n",
              "      <td>181.00</td>\n",
              "      <td>C840083671</td>\n",
              "      <td>181.00</td>\n",
              "      <td>0.00</td>\n",
              "      <td>C38997010</td>\n",
              "      <td>21182.00</td>\n",
              "      <td>0.00</td>\n",
              "      <td>1</td>\n",
              "      <td>0</td>\n",
              "    </tr>\n",
              "    <tr>\n",
              "      <th>4</th>\n",
              "      <td>1</td>\n",
              "      <td>PAYMENT</td>\n",
              "      <td>11668.14</td>\n",
              "      <td>C2048537720</td>\n",
              "      <td>41554.00</td>\n",
              "      <td>29885.86</td>\n",
              "      <td>M1230701703</td>\n",
              "      <td>0.00</td>\n",
              "      <td>0.00</td>\n",
              "      <td>0</td>\n",
              "      <td>0</td>\n",
              "    </tr>\n",
              "    <tr>\n",
              "      <th>...</th>\n",
              "      <td>...</td>\n",
              "      <td>...</td>\n",
              "      <td>...</td>\n",
              "      <td>...</td>\n",
              "      <td>...</td>\n",
              "      <td>...</td>\n",
              "      <td>...</td>\n",
              "      <td>...</td>\n",
              "      <td>...</td>\n",
              "      <td>...</td>\n",
              "      <td>...</td>\n",
              "    </tr>\n",
              "    <tr>\n",
              "      <th>1048570</th>\n",
              "      <td>95</td>\n",
              "      <td>CASH_OUT</td>\n",
              "      <td>132557.35</td>\n",
              "      <td>C1179511630</td>\n",
              "      <td>479803.00</td>\n",
              "      <td>347245.65</td>\n",
              "      <td>C435674507</td>\n",
              "      <td>484329.37</td>\n",
              "      <td>616886.72</td>\n",
              "      <td>0</td>\n",
              "      <td>0</td>\n",
              "    </tr>\n",
              "    <tr>\n",
              "      <th>1048571</th>\n",
              "      <td>95</td>\n",
              "      <td>PAYMENT</td>\n",
              "      <td>9917.36</td>\n",
              "      <td>C1956161225</td>\n",
              "      <td>90545.00</td>\n",
              "      <td>80627.64</td>\n",
              "      <td>M668364942</td>\n",
              "      <td>0.00</td>\n",
              "      <td>0.00</td>\n",
              "      <td>0</td>\n",
              "      <td>0</td>\n",
              "    </tr>\n",
              "    <tr>\n",
              "      <th>1048572</th>\n",
              "      <td>95</td>\n",
              "      <td>PAYMENT</td>\n",
              "      <td>14140.05</td>\n",
              "      <td>C2037964975</td>\n",
              "      <td>20545.00</td>\n",
              "      <td>6404.95</td>\n",
              "      <td>M1355182933</td>\n",
              "      <td>0.00</td>\n",
              "      <td>0.00</td>\n",
              "      <td>0</td>\n",
              "      <td>0</td>\n",
              "    </tr>\n",
              "    <tr>\n",
              "      <th>1048573</th>\n",
              "      <td>95</td>\n",
              "      <td>PAYMENT</td>\n",
              "      <td>10020.05</td>\n",
              "      <td>C1633237354</td>\n",
              "      <td>90605.00</td>\n",
              "      <td>80584.95</td>\n",
              "      <td>M1964992463</td>\n",
              "      <td>0.00</td>\n",
              "      <td>0.00</td>\n",
              "      <td>0</td>\n",
              "      <td>0</td>\n",
              "    </tr>\n",
              "    <tr>\n",
              "      <th>1048574</th>\n",
              "      <td>95</td>\n",
              "      <td>PAYMENT</td>\n",
              "      <td>11450.03</td>\n",
              "      <td>C1264356443</td>\n",
              "      <td>80584.95</td>\n",
              "      <td>69134.92</td>\n",
              "      <td>M677577406</td>\n",
              "      <td>0.00</td>\n",
              "      <td>0.00</td>\n",
              "      <td>0</td>\n",
              "      <td>0</td>\n",
              "    </tr>\n",
              "  </tbody>\n",
              "</table>\n",
              "<p>1048575 rows × 11 columns</p>\n",
              "</div>"
            ],
            "text/plain": [
              "         step      type     amount     nameOrig  oldbalanceOrg  \\\n",
              "0           1   PAYMENT    9839.64  C1231006815      170136.00   \n",
              "1           1   PAYMENT    1864.28  C1666544295       21249.00   \n",
              "2           1  TRANSFER     181.00  C1305486145         181.00   \n",
              "3           1  CASH_OUT     181.00   C840083671         181.00   \n",
              "4           1   PAYMENT   11668.14  C2048537720       41554.00   \n",
              "...       ...       ...        ...          ...            ...   \n",
              "1048570    95  CASH_OUT  132557.35  C1179511630      479803.00   \n",
              "1048571    95   PAYMENT    9917.36  C1956161225       90545.00   \n",
              "1048572    95   PAYMENT   14140.05  C2037964975       20545.00   \n",
              "1048573    95   PAYMENT   10020.05  C1633237354       90605.00   \n",
              "1048574    95   PAYMENT   11450.03  C1264356443       80584.95   \n",
              "\n",
              "         newbalanceOrig     nameDest  oldbalanceDest  newbalanceDest  isFraud  \\\n",
              "0             160296.36  M1979787155            0.00            0.00        0   \n",
              "1              19384.72  M2044282225            0.00            0.00        0   \n",
              "2                  0.00   C553264065            0.00            0.00        1   \n",
              "3                  0.00    C38997010        21182.00            0.00        1   \n",
              "4              29885.86  M1230701703            0.00            0.00        0   \n",
              "...                 ...          ...             ...             ...      ...   \n",
              "1048570       347245.65   C435674507       484329.37       616886.72        0   \n",
              "1048571        80627.64   M668364942            0.00            0.00        0   \n",
              "1048572         6404.95  M1355182933            0.00            0.00        0   \n",
              "1048573        80584.95  M1964992463            0.00            0.00        0   \n",
              "1048574        69134.92   M677577406            0.00            0.00        0   \n",
              "\n",
              "         isFlaggedFraud  \n",
              "0                     0  \n",
              "1                     0  \n",
              "2                     0  \n",
              "3                     0  \n",
              "4                     0  \n",
              "...                 ...  \n",
              "1048570               0  \n",
              "1048571               0  \n",
              "1048572               0  \n",
              "1048573               0  \n",
              "1048574               0  \n",
              "\n",
              "[1048575 rows x 11 columns]"
            ]
          },
          "execution_count": 3,
          "metadata": {},
          "output_type": "execute_result"
        }
      ],
      "source": []
    },
    {
      "cell_type": "code",
      "execution_count": null,
      "metadata": {
        "colab": {
          "base_uri": "https://localhost:8080/"
        },
        "id": "YOlbz-H4Hccp",
        "outputId": "84d6ee56-1cf2-4955-f0e4-218ff61d5747"
      },
      "outputs": [
        {
          "name": "stdout",
          "output_type": "stream",
          "text": [
            "<class 'pandas.core.frame.DataFrame'>\n",
            "RangeIndex: 1048575 entries, 0 to 1048574\n",
            "Data columns (total 11 columns):\n",
            " #   Column          Non-Null Count    Dtype  \n",
            "---  ------          --------------    -----  \n",
            " 0   step            1048575 non-null  int64  \n",
            " 1   type            1048575 non-null  object \n",
            " 2   amount          1048575 non-null  float64\n",
            " 3   nameOrig        1048575 non-null  object \n",
            " 4   oldbalanceOrg   1048575 non-null  float64\n",
            " 5   newbalanceOrig  1048575 non-null  float64\n",
            " 6   nameDest        1048575 non-null  object \n",
            " 7   oldbalanceDest  1048575 non-null  float64\n",
            " 8   newbalanceDest  1048575 non-null  float64\n",
            " 9   isFraud         1048575 non-null  int64  \n",
            " 10  isFlaggedFraud  1048575 non-null  int64  \n",
            "dtypes: float64(5), int64(3), object(3)\n",
            "memory usage: 88.0+ MB\n"
          ]
        }
      ],
      "source": [
        "#Display the general information of the dataset and try to answer the following questions\n",
        "fraud.info()"
      ]
    },
    {
      "cell_type": "code",
      "execution_count": null,
      "metadata": {
        "colab": {
          "base_uri": "https://localhost:8080/"
        },
        "id": "7mIBpHznHccp",
        "outputId": "01b18854-4181-4905-c66c-63edf43e298d"
      },
      "outputs": [
        {
          "data": {
            "text/plain": [
              "step              0\n",
              "type              0\n",
              "amount            0\n",
              "nameOrig          0\n",
              "oldbalanceOrg     0\n",
              "newbalanceOrig    0\n",
              "nameDest          0\n",
              "oldbalanceDest    0\n",
              "newbalanceDest    0\n",
              "isFraud           0\n",
              "isFlaggedFraud    0\n",
              "dtype: int64"
            ]
          },
          "execution_count": 5,
          "metadata": {},
          "output_type": "execute_result"
        }
      ],
      "source": [
        "fraud.isnull().sum()"
      ]
    },
    {
      "cell_type": "code",
      "execution_count": null,
      "metadata": {
        "colab": {
          "base_uri": "https://localhost:8080/",
          "height": 300
        },
        "id": "LajBBMvXHccq",
        "outputId": "adbc71b7-3867-44a3-87d8-aaae37dfcee1"
      },
      "outputs": [
        {
          "data": {
            "text/html": [
              "<div>\n",
              "<style scoped>\n",
              "    .dataframe tbody tr th:only-of-type {\n",
              "        vertical-align: middle;\n",
              "    }\n",
              "\n",
              "    .dataframe tbody tr th {\n",
              "        vertical-align: top;\n",
              "    }\n",
              "\n",
              "    .dataframe thead th {\n",
              "        text-align: right;\n",
              "    }\n",
              "</style>\n",
              "<table border=\"1\" class=\"dataframe\">\n",
              "  <thead>\n",
              "    <tr style=\"text-align: right;\">\n",
              "      <th></th>\n",
              "      <th>step</th>\n",
              "      <th>amount</th>\n",
              "      <th>oldbalanceOrg</th>\n",
              "      <th>newbalanceOrig</th>\n",
              "      <th>oldbalanceDest</th>\n",
              "      <th>newbalanceDest</th>\n",
              "      <th>isFraud</th>\n",
              "      <th>isFlaggedFraud</th>\n",
              "    </tr>\n",
              "  </thead>\n",
              "  <tbody>\n",
              "    <tr>\n",
              "      <th>count</th>\n",
              "      <td>1.048575e+06</td>\n",
              "      <td>1.048575e+06</td>\n",
              "      <td>1.048575e+06</td>\n",
              "      <td>1.048575e+06</td>\n",
              "      <td>1.048575e+06</td>\n",
              "      <td>1.048575e+06</td>\n",
              "      <td>1.048575e+06</td>\n",
              "      <td>1048575.0</td>\n",
              "    </tr>\n",
              "    <tr>\n",
              "      <th>mean</th>\n",
              "      <td>2.696617e+01</td>\n",
              "      <td>1.586670e+05</td>\n",
              "      <td>8.740095e+05</td>\n",
              "      <td>8.938089e+05</td>\n",
              "      <td>9.781600e+05</td>\n",
              "      <td>1.114198e+06</td>\n",
              "      <td>1.089097e-03</td>\n",
              "      <td>0.0</td>\n",
              "    </tr>\n",
              "    <tr>\n",
              "      <th>std</th>\n",
              "      <td>1.562325e+01</td>\n",
              "      <td>2.649409e+05</td>\n",
              "      <td>2.971751e+06</td>\n",
              "      <td>3.008271e+06</td>\n",
              "      <td>2.296780e+06</td>\n",
              "      <td>2.416593e+06</td>\n",
              "      <td>3.298351e-02</td>\n",
              "      <td>0.0</td>\n",
              "    </tr>\n",
              "    <tr>\n",
              "      <th>min</th>\n",
              "      <td>1.000000e+00</td>\n",
              "      <td>1.000000e-01</td>\n",
              "      <td>0.000000e+00</td>\n",
              "      <td>0.000000e+00</td>\n",
              "      <td>0.000000e+00</td>\n",
              "      <td>0.000000e+00</td>\n",
              "      <td>0.000000e+00</td>\n",
              "      <td>0.0</td>\n",
              "    </tr>\n",
              "    <tr>\n",
              "      <th>25%</th>\n",
              "      <td>1.500000e+01</td>\n",
              "      <td>1.214907e+04</td>\n",
              "      <td>0.000000e+00</td>\n",
              "      <td>0.000000e+00</td>\n",
              "      <td>0.000000e+00</td>\n",
              "      <td>0.000000e+00</td>\n",
              "      <td>0.000000e+00</td>\n",
              "      <td>0.0</td>\n",
              "    </tr>\n",
              "    <tr>\n",
              "      <th>50%</th>\n",
              "      <td>2.000000e+01</td>\n",
              "      <td>7.634333e+04</td>\n",
              "      <td>1.600200e+04</td>\n",
              "      <td>0.000000e+00</td>\n",
              "      <td>1.263772e+05</td>\n",
              "      <td>2.182604e+05</td>\n",
              "      <td>0.000000e+00</td>\n",
              "      <td>0.0</td>\n",
              "    </tr>\n",
              "    <tr>\n",
              "      <th>75%</th>\n",
              "      <td>3.900000e+01</td>\n",
              "      <td>2.137619e+05</td>\n",
              "      <td>1.366420e+05</td>\n",
              "      <td>1.746000e+05</td>\n",
              "      <td>9.159235e+05</td>\n",
              "      <td>1.149808e+06</td>\n",
              "      <td>0.000000e+00</td>\n",
              "      <td>0.0</td>\n",
              "    </tr>\n",
              "    <tr>\n",
              "      <th>max</th>\n",
              "      <td>9.500000e+01</td>\n",
              "      <td>1.000000e+07</td>\n",
              "      <td>3.890000e+07</td>\n",
              "      <td>3.890000e+07</td>\n",
              "      <td>4.210000e+07</td>\n",
              "      <td>4.220000e+07</td>\n",
              "      <td>1.000000e+00</td>\n",
              "      <td>0.0</td>\n",
              "    </tr>\n",
              "  </tbody>\n",
              "</table>\n",
              "</div>"
            ],
            "text/plain": [
              "               step        amount  oldbalanceOrg  newbalanceOrig  \\\n",
              "count  1.048575e+06  1.048575e+06   1.048575e+06    1.048575e+06   \n",
              "mean   2.696617e+01  1.586670e+05   8.740095e+05    8.938089e+05   \n",
              "std    1.562325e+01  2.649409e+05   2.971751e+06    3.008271e+06   \n",
              "min    1.000000e+00  1.000000e-01   0.000000e+00    0.000000e+00   \n",
              "25%    1.500000e+01  1.214907e+04   0.000000e+00    0.000000e+00   \n",
              "50%    2.000000e+01  7.634333e+04   1.600200e+04    0.000000e+00   \n",
              "75%    3.900000e+01  2.137619e+05   1.366420e+05    1.746000e+05   \n",
              "max    9.500000e+01  1.000000e+07   3.890000e+07    3.890000e+07   \n",
              "\n",
              "       oldbalanceDest  newbalanceDest       isFraud  isFlaggedFraud  \n",
              "count    1.048575e+06    1.048575e+06  1.048575e+06       1048575.0  \n",
              "mean     9.781600e+05    1.114198e+06  1.089097e-03             0.0  \n",
              "std      2.296780e+06    2.416593e+06  3.298351e-02             0.0  \n",
              "min      0.000000e+00    0.000000e+00  0.000000e+00             0.0  \n",
              "25%      0.000000e+00    0.000000e+00  0.000000e+00             0.0  \n",
              "50%      1.263772e+05    2.182604e+05  0.000000e+00             0.0  \n",
              "75%      9.159235e+05    1.149808e+06  0.000000e+00             0.0  \n",
              "max      4.210000e+07    4.220000e+07  1.000000e+00             0.0  "
            ]
          },
          "execution_count": 6,
          "metadata": {},
          "output_type": "execute_result"
        }
      ],
      "source": [
        "# Run a descriptive analysis on numeric features (columns)\n",
        "fraud.describe()"
      ]
    },
    {
      "cell_type": "code",
      "execution_count": null,
      "metadata": {
        "colab": {
          "base_uri": "https://localhost:8080/"
        },
        "id": "To4QF-K-Hccq",
        "outputId": "f2ca3cc3-ecd9-434f-ff46-30ec67660a19"
      },
      "outputs": [
        {
          "data": {
            "text/plain": [
              "CASH_OUT    373641\n",
              "PAYMENT     353873\n",
              "CASH_IN     227130\n",
              "TRANSFER     86753\n",
              "DEBIT         7178\n",
              "Name: type, dtype: int64"
            ]
          },
          "execution_count": 7,
          "metadata": {},
          "output_type": "execute_result"
        }
      ],
      "source": [
        "# Run a value_counts of all the\n",
        "fraud.type.value_counts()"
      ]
    },
    {
      "cell_type": "code",
      "execution_count": null,
      "metadata": {
        "colab": {
          "base_uri": "https://localhost:8080/"
        },
        "id": "SA-iHHxPHccr",
        "outputId": "cc66cb33-58a5-4a66-92ae-7bd9944fd8f4"
      },
      "outputs": [
        {
          "data": {
            "text/plain": [
              "0    1047433\n",
              "1       1142\n",
              "Name: isFraud, dtype: int64"
            ]
          },
          "execution_count": 8,
          "metadata": {},
          "output_type": "execute_result"
        }
      ],
      "source": [
        "fraud.isFraud.value_counts()"
      ]
    },
    {
      "cell_type": "code",
      "execution_count": null,
      "metadata": {
        "id": "yNJB8WnIHccs"
      },
      "outputs": [],
      "source": [
        "#splitting the dataset into training and testing set\n",
        "x = fraud.drop(['isFraud', 'nameOrig', 'nameDest'], axis = 1)\n",
        "y = fraud.iloc[:,-2]"
      ]
    },
    {
      "cell_type": "code",
      "execution_count": null,
      "metadata": {
        "colab": {
          "base_uri": "https://localhost:8080/",
          "height": 424
        },
        "id": "MD97sywJHcct",
        "outputId": "21178b0d-6421-41f1-d793-fc334d49c597"
      },
      "outputs": [
        {
          "data": {
            "text/html": [
              "<div>\n",
              "<style scoped>\n",
              "    .dataframe tbody tr th:only-of-type {\n",
              "        vertical-align: middle;\n",
              "    }\n",
              "\n",
              "    .dataframe tbody tr th {\n",
              "        vertical-align: top;\n",
              "    }\n",
              "\n",
              "    .dataframe thead th {\n",
              "        text-align: right;\n",
              "    }\n",
              "</style>\n",
              "<table border=\"1\" class=\"dataframe\">\n",
              "  <thead>\n",
              "    <tr style=\"text-align: right;\">\n",
              "      <th></th>\n",
              "      <th>step</th>\n",
              "      <th>type</th>\n",
              "      <th>amount</th>\n",
              "      <th>oldbalanceOrg</th>\n",
              "      <th>newbalanceOrig</th>\n",
              "      <th>oldbalanceDest</th>\n",
              "      <th>newbalanceDest</th>\n",
              "      <th>isFlaggedFraud</th>\n",
              "    </tr>\n",
              "  </thead>\n",
              "  <tbody>\n",
              "    <tr>\n",
              "      <th>0</th>\n",
              "      <td>1</td>\n",
              "      <td>PAYMENT</td>\n",
              "      <td>9839.64</td>\n",
              "      <td>170136.00</td>\n",
              "      <td>160296.36</td>\n",
              "      <td>0.00</td>\n",
              "      <td>0.00</td>\n",
              "      <td>0</td>\n",
              "    </tr>\n",
              "    <tr>\n",
              "      <th>1</th>\n",
              "      <td>1</td>\n",
              "      <td>PAYMENT</td>\n",
              "      <td>1864.28</td>\n",
              "      <td>21249.00</td>\n",
              "      <td>19384.72</td>\n",
              "      <td>0.00</td>\n",
              "      <td>0.00</td>\n",
              "      <td>0</td>\n",
              "    </tr>\n",
              "    <tr>\n",
              "      <th>2</th>\n",
              "      <td>1</td>\n",
              "      <td>TRANSFER</td>\n",
              "      <td>181.00</td>\n",
              "      <td>181.00</td>\n",
              "      <td>0.00</td>\n",
              "      <td>0.00</td>\n",
              "      <td>0.00</td>\n",
              "      <td>0</td>\n",
              "    </tr>\n",
              "    <tr>\n",
              "      <th>3</th>\n",
              "      <td>1</td>\n",
              "      <td>CASH_OUT</td>\n",
              "      <td>181.00</td>\n",
              "      <td>181.00</td>\n",
              "      <td>0.00</td>\n",
              "      <td>21182.00</td>\n",
              "      <td>0.00</td>\n",
              "      <td>0</td>\n",
              "    </tr>\n",
              "    <tr>\n",
              "      <th>4</th>\n",
              "      <td>1</td>\n",
              "      <td>PAYMENT</td>\n",
              "      <td>11668.14</td>\n",
              "      <td>41554.00</td>\n",
              "      <td>29885.86</td>\n",
              "      <td>0.00</td>\n",
              "      <td>0.00</td>\n",
              "      <td>0</td>\n",
              "    </tr>\n",
              "    <tr>\n",
              "      <th>...</th>\n",
              "      <td>...</td>\n",
              "      <td>...</td>\n",
              "      <td>...</td>\n",
              "      <td>...</td>\n",
              "      <td>...</td>\n",
              "      <td>...</td>\n",
              "      <td>...</td>\n",
              "      <td>...</td>\n",
              "    </tr>\n",
              "    <tr>\n",
              "      <th>1048570</th>\n",
              "      <td>95</td>\n",
              "      <td>CASH_OUT</td>\n",
              "      <td>132557.35</td>\n",
              "      <td>479803.00</td>\n",
              "      <td>347245.65</td>\n",
              "      <td>484329.37</td>\n",
              "      <td>616886.72</td>\n",
              "      <td>0</td>\n",
              "    </tr>\n",
              "    <tr>\n",
              "      <th>1048571</th>\n",
              "      <td>95</td>\n",
              "      <td>PAYMENT</td>\n",
              "      <td>9917.36</td>\n",
              "      <td>90545.00</td>\n",
              "      <td>80627.64</td>\n",
              "      <td>0.00</td>\n",
              "      <td>0.00</td>\n",
              "      <td>0</td>\n",
              "    </tr>\n",
              "    <tr>\n",
              "      <th>1048572</th>\n",
              "      <td>95</td>\n",
              "      <td>PAYMENT</td>\n",
              "      <td>14140.05</td>\n",
              "      <td>20545.00</td>\n",
              "      <td>6404.95</td>\n",
              "      <td>0.00</td>\n",
              "      <td>0.00</td>\n",
              "      <td>0</td>\n",
              "    </tr>\n",
              "    <tr>\n",
              "      <th>1048573</th>\n",
              "      <td>95</td>\n",
              "      <td>PAYMENT</td>\n",
              "      <td>10020.05</td>\n",
              "      <td>90605.00</td>\n",
              "      <td>80584.95</td>\n",
              "      <td>0.00</td>\n",
              "      <td>0.00</td>\n",
              "      <td>0</td>\n",
              "    </tr>\n",
              "    <tr>\n",
              "      <th>1048574</th>\n",
              "      <td>95</td>\n",
              "      <td>PAYMENT</td>\n",
              "      <td>11450.03</td>\n",
              "      <td>80584.95</td>\n",
              "      <td>69134.92</td>\n",
              "      <td>0.00</td>\n",
              "      <td>0.00</td>\n",
              "      <td>0</td>\n",
              "    </tr>\n",
              "  </tbody>\n",
              "</table>\n",
              "<p>1048575 rows × 8 columns</p>\n",
              "</div>"
            ],
            "text/plain": [
              "         step      type     amount  oldbalanceOrg  newbalanceOrig  \\\n",
              "0           1   PAYMENT    9839.64      170136.00       160296.36   \n",
              "1           1   PAYMENT    1864.28       21249.00        19384.72   \n",
              "2           1  TRANSFER     181.00         181.00            0.00   \n",
              "3           1  CASH_OUT     181.00         181.00            0.00   \n",
              "4           1   PAYMENT   11668.14       41554.00        29885.86   \n",
              "...       ...       ...        ...            ...             ...   \n",
              "1048570    95  CASH_OUT  132557.35      479803.00       347245.65   \n",
              "1048571    95   PAYMENT    9917.36       90545.00        80627.64   \n",
              "1048572    95   PAYMENT   14140.05       20545.00         6404.95   \n",
              "1048573    95   PAYMENT   10020.05       90605.00        80584.95   \n",
              "1048574    95   PAYMENT   11450.03       80584.95        69134.92   \n",
              "\n",
              "         oldbalanceDest  newbalanceDest  isFlaggedFraud  \n",
              "0                  0.00            0.00               0  \n",
              "1                  0.00            0.00               0  \n",
              "2                  0.00            0.00               0  \n",
              "3              21182.00            0.00               0  \n",
              "4                  0.00            0.00               0  \n",
              "...                 ...             ...             ...  \n",
              "1048570       484329.37       616886.72               0  \n",
              "1048571            0.00            0.00               0  \n",
              "1048572            0.00            0.00               0  \n",
              "1048573            0.00            0.00               0  \n",
              "1048574            0.00            0.00               0  \n",
              "\n",
              "[1048575 rows x 8 columns]"
            ]
          },
          "execution_count": 14,
          "metadata": {},
          "output_type": "execute_result"
        }
      ],
      "source": [
        "x"
      ]
    },
    {
      "cell_type": "code",
      "execution_count": null,
      "metadata": {
        "colab": {
          "base_uri": "https://localhost:8080/"
        },
        "id": "Bt_uanwvHccu",
        "outputId": "89001154-82b2-44cc-c76d-e1f6b32dd99d"
      },
      "outputs": [
        {
          "data": {
            "text/plain": [
              "CASH_OUT    373641\n",
              "PAYMENT     353873\n",
              "CASH_IN     227130\n",
              "TRANSFER     86753\n",
              "DEBIT         7178\n",
              "Name: type, dtype: int64"
            ]
          },
          "execution_count": 15,
          "metadata": {},
          "output_type": "execute_result"
        }
      ],
      "source": [
        "fraud.type.value_counts()"
      ]
    },
    {
      "cell_type": "code",
      "execution_count": null,
      "metadata": {
        "colab": {
          "base_uri": "https://localhost:8080/"
        },
        "id": "Dt1VeOH4Hccu",
        "outputId": "487eeba3-2d81-48e2-fad6-946463196aac"
      },
      "outputs": [
        {
          "data": {
            "text/plain": [
              "0          0\n",
              "1          0\n",
              "2          1\n",
              "3          1\n",
              "4          0\n",
              "          ..\n",
              "1048570    0\n",
              "1048571    0\n",
              "1048572    0\n",
              "1048573    0\n",
              "1048574    0\n",
              "Name: isFraud, Length: 1048575, dtype: int64"
            ]
          },
          "execution_count": 16,
          "metadata": {},
          "output_type": "execute_result"
        }
      ],
      "source": [
        "y"
      ]
    },
    {
      "cell_type": "code",
      "execution_count": null,
      "metadata": {
        "id": "nfNfloRZHccv"
      },
      "outputs": [],
      "source": [
        "# Encoding categorical features using label encoder\n",
        "from sklearn.preprocessing import LabelEncoder\n",
        "\n",
        "lb = LabelEncoder()\n",
        "x['type'] = lb.fit_transform(x['type'])"
      ]
    },
    {
      "cell_type": "code",
      "execution_count": null,
      "metadata": {
        "colab": {
          "base_uri": "https://localhost:8080/",
          "height": 424
        },
        "id": "vdJN7jmOHccv",
        "outputId": "29f87d82-0a9e-4df1-edfb-8f9aed066cfb"
      },
      "outputs": [
        {
          "data": {
            "text/html": [
              "<div>\n",
              "<style scoped>\n",
              "    .dataframe tbody tr th:only-of-type {\n",
              "        vertical-align: middle;\n",
              "    }\n",
              "\n",
              "    .dataframe tbody tr th {\n",
              "        vertical-align: top;\n",
              "    }\n",
              "\n",
              "    .dataframe thead th {\n",
              "        text-align: right;\n",
              "    }\n",
              "</style>\n",
              "<table border=\"1\" class=\"dataframe\">\n",
              "  <thead>\n",
              "    <tr style=\"text-align: right;\">\n",
              "      <th></th>\n",
              "      <th>step</th>\n",
              "      <th>type</th>\n",
              "      <th>amount</th>\n",
              "      <th>oldbalanceOrg</th>\n",
              "      <th>newbalanceOrig</th>\n",
              "      <th>oldbalanceDest</th>\n",
              "      <th>newbalanceDest</th>\n",
              "      <th>isFlaggedFraud</th>\n",
              "    </tr>\n",
              "  </thead>\n",
              "  <tbody>\n",
              "    <tr>\n",
              "      <th>0</th>\n",
              "      <td>1</td>\n",
              "      <td>3</td>\n",
              "      <td>9839.64</td>\n",
              "      <td>170136.00</td>\n",
              "      <td>160296.36</td>\n",
              "      <td>0.00</td>\n",
              "      <td>0.00</td>\n",
              "      <td>0</td>\n",
              "    </tr>\n",
              "    <tr>\n",
              "      <th>1</th>\n",
              "      <td>1</td>\n",
              "      <td>3</td>\n",
              "      <td>1864.28</td>\n",
              "      <td>21249.00</td>\n",
              "      <td>19384.72</td>\n",
              "      <td>0.00</td>\n",
              "      <td>0.00</td>\n",
              "      <td>0</td>\n",
              "    </tr>\n",
              "    <tr>\n",
              "      <th>2</th>\n",
              "      <td>1</td>\n",
              "      <td>4</td>\n",
              "      <td>181.00</td>\n",
              "      <td>181.00</td>\n",
              "      <td>0.00</td>\n",
              "      <td>0.00</td>\n",
              "      <td>0.00</td>\n",
              "      <td>0</td>\n",
              "    </tr>\n",
              "    <tr>\n",
              "      <th>3</th>\n",
              "      <td>1</td>\n",
              "      <td>1</td>\n",
              "      <td>181.00</td>\n",
              "      <td>181.00</td>\n",
              "      <td>0.00</td>\n",
              "      <td>21182.00</td>\n",
              "      <td>0.00</td>\n",
              "      <td>0</td>\n",
              "    </tr>\n",
              "    <tr>\n",
              "      <th>4</th>\n",
              "      <td>1</td>\n",
              "      <td>3</td>\n",
              "      <td>11668.14</td>\n",
              "      <td>41554.00</td>\n",
              "      <td>29885.86</td>\n",
              "      <td>0.00</td>\n",
              "      <td>0.00</td>\n",
              "      <td>0</td>\n",
              "    </tr>\n",
              "    <tr>\n",
              "      <th>...</th>\n",
              "      <td>...</td>\n",
              "      <td>...</td>\n",
              "      <td>...</td>\n",
              "      <td>...</td>\n",
              "      <td>...</td>\n",
              "      <td>...</td>\n",
              "      <td>...</td>\n",
              "      <td>...</td>\n",
              "    </tr>\n",
              "    <tr>\n",
              "      <th>1048570</th>\n",
              "      <td>95</td>\n",
              "      <td>1</td>\n",
              "      <td>132557.35</td>\n",
              "      <td>479803.00</td>\n",
              "      <td>347245.65</td>\n",
              "      <td>484329.37</td>\n",
              "      <td>616886.72</td>\n",
              "      <td>0</td>\n",
              "    </tr>\n",
              "    <tr>\n",
              "      <th>1048571</th>\n",
              "      <td>95</td>\n",
              "      <td>3</td>\n",
              "      <td>9917.36</td>\n",
              "      <td>90545.00</td>\n",
              "      <td>80627.64</td>\n",
              "      <td>0.00</td>\n",
              "      <td>0.00</td>\n",
              "      <td>0</td>\n",
              "    </tr>\n",
              "    <tr>\n",
              "      <th>1048572</th>\n",
              "      <td>95</td>\n",
              "      <td>3</td>\n",
              "      <td>14140.05</td>\n",
              "      <td>20545.00</td>\n",
              "      <td>6404.95</td>\n",
              "      <td>0.00</td>\n",
              "      <td>0.00</td>\n",
              "      <td>0</td>\n",
              "    </tr>\n",
              "    <tr>\n",
              "      <th>1048573</th>\n",
              "      <td>95</td>\n",
              "      <td>3</td>\n",
              "      <td>10020.05</td>\n",
              "      <td>90605.00</td>\n",
              "      <td>80584.95</td>\n",
              "      <td>0.00</td>\n",
              "      <td>0.00</td>\n",
              "      <td>0</td>\n",
              "    </tr>\n",
              "    <tr>\n",
              "      <th>1048574</th>\n",
              "      <td>95</td>\n",
              "      <td>3</td>\n",
              "      <td>11450.03</td>\n",
              "      <td>80584.95</td>\n",
              "      <td>69134.92</td>\n",
              "      <td>0.00</td>\n",
              "      <td>0.00</td>\n",
              "      <td>0</td>\n",
              "    </tr>\n",
              "  </tbody>\n",
              "</table>\n",
              "<p>1048575 rows × 8 columns</p>\n",
              "</div>"
            ],
            "text/plain": [
              "         step  type     amount  oldbalanceOrg  newbalanceOrig  oldbalanceDest  \\\n",
              "0           1     3    9839.64      170136.00       160296.36            0.00   \n",
              "1           1     3    1864.28       21249.00        19384.72            0.00   \n",
              "2           1     4     181.00         181.00            0.00            0.00   \n",
              "3           1     1     181.00         181.00            0.00        21182.00   \n",
              "4           1     3   11668.14       41554.00        29885.86            0.00   \n",
              "...       ...   ...        ...            ...             ...             ...   \n",
              "1048570    95     1  132557.35      479803.00       347245.65       484329.37   \n",
              "1048571    95     3    9917.36       90545.00        80627.64            0.00   \n",
              "1048572    95     3   14140.05       20545.00         6404.95            0.00   \n",
              "1048573    95     3   10020.05       90605.00        80584.95            0.00   \n",
              "1048574    95     3   11450.03       80584.95        69134.92            0.00   \n",
              "\n",
              "         newbalanceDest  isFlaggedFraud  \n",
              "0                  0.00               0  \n",
              "1                  0.00               0  \n",
              "2                  0.00               0  \n",
              "3                  0.00               0  \n",
              "4                  0.00               0  \n",
              "...                 ...             ...  \n",
              "1048570       616886.72               0  \n",
              "1048571            0.00               0  \n",
              "1048572            0.00               0  \n",
              "1048573            0.00               0  \n",
              "1048574            0.00               0  \n",
              "\n",
              "[1048575 rows x 8 columns]"
            ]
          },
          "execution_count": 18,
          "metadata": {},
          "output_type": "execute_result"
        }
      ],
      "source": [
        "x"
      ]
    },
    {
      "cell_type": "code",
      "execution_count": null,
      "metadata": {
        "colab": {
          "base_uri": "https://localhost:8080/"
        },
        "id": "gnZtDfAGVFXP",
        "outputId": "4be818b4-49f2-4304-b639-f50fc38cae41"
      },
      "outputs": [
        {
          "data": {
            "text/plain": [
              "step                int64\n",
              "type                int32\n",
              "amount            float64\n",
              "oldbalanceOrg     float64\n",
              "newbalanceOrig    float64\n",
              "oldbalanceDest    float64\n",
              "newbalanceDest    float64\n",
              "isFlaggedFraud      int64\n",
              "dtype: object"
            ]
          },
          "execution_count": 19,
          "metadata": {},
          "output_type": "execute_result"
        }
      ],
      "source": [
        "x.dtypes"
      ]
    },
    {
      "cell_type": "code",
      "execution_count": null,
      "metadata": {
        "colab": {
          "base_uri": "https://localhost:8080/"
        },
        "id": "R8ThEKfpHccw",
        "outputId": "bfd00945-1aa8-49ab-b09f-601e692c9c19"
      },
      "outputs": [
        {
          "data": {
            "text/plain": [
              "0          0\n",
              "1          0\n",
              "2          1\n",
              "3          1\n",
              "4          0\n",
              "          ..\n",
              "1048570    0\n",
              "1048571    0\n",
              "1048572    0\n",
              "1048573    0\n",
              "1048574    0\n",
              "Name: isFraud, Length: 1048575, dtype: int64"
            ]
          },
          "execution_count": 21,
          "metadata": {},
          "output_type": "execute_result"
        }
      ],
      "source": [
        "y"
      ]
    },
    {
      "cell_type": "code",
      "execution_count": null,
      "metadata": {
        "id": "Yq7hi5wZHccw"
      },
      "outputs": [],
      "source": [
        "#Removing outlier using MinMaxScaler\n",
        "from sklearn.preprocessing import MinMaxScaler\n",
        "\n",
        "mm = MinMaxScaler()\n",
        "\n",
        "x = mm.fit_transform(x)"
      ]
    },
    {
      "cell_type": "code",
      "execution_count": null,
      "metadata": {
        "id": "yOKpl0rwHccx"
      },
      "outputs": [],
      "source": [
        "from sklearn.model_selection import train_test_split\n",
        "\n",
        "x_train, x_test, y_train, y_test = train_test_split(x, y, test_size = 0.2, random_state = 42)"
      ]
    },
    {
      "cell_type": "code",
      "execution_count": null,
      "metadata": {
        "id": "lMXO73naHccx"
      },
      "outputs": [],
      "source": [
        "from sklearn.tree import DecisionTreeClassifier\n",
        "\n",
        "model = DecisionTreeClassifier()"
      ]
    },
    {
      "cell_type": "code",
      "execution_count": null,
      "metadata": {
        "colab": {
          "base_uri": "https://localhost:8080/",
          "height": 76
        },
        "id": "wuFAUCgDHccx",
        "outputId": "0cee7124-df67-4c40-aabf-28a11479b5ec"
      },
      "outputs": [
        {
          "data": {
            "text/html": [
              "<style>#sk-container-id-1 {color: black;}#sk-container-id-1 pre{padding: 0;}#sk-container-id-1 div.sk-toggleable {background-color: white;}#sk-container-id-1 label.sk-toggleable__label {cursor: pointer;display: block;width: 100%;margin-bottom: 0;padding: 0.3em;box-sizing: border-box;text-align: center;}#sk-container-id-1 label.sk-toggleable__label-arrow:before {content: \"▸\";float: left;margin-right: 0.25em;color: #696969;}#sk-container-id-1 label.sk-toggleable__label-arrow:hover:before {color: black;}#sk-container-id-1 div.sk-estimator:hover label.sk-toggleable__label-arrow:before {color: black;}#sk-container-id-1 div.sk-toggleable__content {max-height: 0;max-width: 0;overflow: hidden;text-align: left;background-color: #f0f8ff;}#sk-container-id-1 div.sk-toggleable__content pre {margin: 0.2em;color: black;border-radius: 0.25em;background-color: #f0f8ff;}#sk-container-id-1 input.sk-toggleable__control:checked~div.sk-toggleable__content {max-height: 200px;max-width: 100%;overflow: auto;}#sk-container-id-1 input.sk-toggleable__control:checked~label.sk-toggleable__label-arrow:before {content: \"▾\";}#sk-container-id-1 div.sk-estimator input.sk-toggleable__control:checked~label.sk-toggleable__label {background-color: #d4ebff;}#sk-container-id-1 div.sk-label input.sk-toggleable__control:checked~label.sk-toggleable__label {background-color: #d4ebff;}#sk-container-id-1 input.sk-hidden--visually {border: 0;clip: rect(1px 1px 1px 1px);clip: rect(1px, 1px, 1px, 1px);height: 1px;margin: -1px;overflow: hidden;padding: 0;position: absolute;width: 1px;}#sk-container-id-1 div.sk-estimator {font-family: monospace;background-color: #f0f8ff;border: 1px dotted black;border-radius: 0.25em;box-sizing: border-box;margin-bottom: 0.5em;}#sk-container-id-1 div.sk-estimator:hover {background-color: #d4ebff;}#sk-container-id-1 div.sk-parallel-item::after {content: \"\";width: 100%;border-bottom: 1px solid gray;flex-grow: 1;}#sk-container-id-1 div.sk-label:hover label.sk-toggleable__label {background-color: #d4ebff;}#sk-container-id-1 div.sk-serial::before {content: \"\";position: absolute;border-left: 1px solid gray;box-sizing: border-box;top: 0;bottom: 0;left: 50%;z-index: 0;}#sk-container-id-1 div.sk-serial {display: flex;flex-direction: column;align-items: center;background-color: white;padding-right: 0.2em;padding-left: 0.2em;position: relative;}#sk-container-id-1 div.sk-item {position: relative;z-index: 1;}#sk-container-id-1 div.sk-parallel {display: flex;align-items: stretch;justify-content: center;background-color: white;position: relative;}#sk-container-id-1 div.sk-item::before, #sk-container-id-1 div.sk-parallel-item::before {content: \"\";position: absolute;border-left: 1px solid gray;box-sizing: border-box;top: 0;bottom: 0;left: 50%;z-index: -1;}#sk-container-id-1 div.sk-parallel-item {display: flex;flex-direction: column;z-index: 1;position: relative;background-color: white;}#sk-container-id-1 div.sk-parallel-item:first-child::after {align-self: flex-end;width: 50%;}#sk-container-id-1 div.sk-parallel-item:last-child::after {align-self: flex-start;width: 50%;}#sk-container-id-1 div.sk-parallel-item:only-child::after {width: 0;}#sk-container-id-1 div.sk-dashed-wrapped {border: 1px dashed gray;margin: 0 0.4em 0.5em 0.4em;box-sizing: border-box;padding-bottom: 0.4em;background-color: white;}#sk-container-id-1 div.sk-label label {font-family: monospace;font-weight: bold;display: inline-block;line-height: 1.2em;}#sk-container-id-1 div.sk-label-container {text-align: center;}#sk-container-id-1 div.sk-container {/* jupyter's `normalize.less` sets `[hidden] { display: none; }` but bootstrap.min.css set `[hidden] { display: none !important; }` so we also need the `!important` here to be able to override the default hidden behavior on the sphinx rendered scikit-learn.org. See: https://github.com/scikit-learn/scikit-learn/issues/21755 */display: inline-block !important;position: relative;}#sk-container-id-1 div.sk-text-repr-fallback {display: none;}</style><div id=\"sk-container-id-1\" class=\"sk-top-container\"><div class=\"sk-text-repr-fallback\"><pre>DecisionTreeClassifier()</pre><b>In a Jupyter environment, please rerun this cell to show the HTML representation or trust the notebook. <br />On GitHub, the HTML representation is unable to render, please try loading this page with nbviewer.org.</b></div><div class=\"sk-container\" hidden><div class=\"sk-item\"><div class=\"sk-estimator sk-toggleable\"><input class=\"sk-toggleable__control sk-hidden--visually\" id=\"sk-estimator-id-1\" type=\"checkbox\" checked><label for=\"sk-estimator-id-1\" class=\"sk-toggleable__label sk-toggleable__label-arrow\">DecisionTreeClassifier</label><div class=\"sk-toggleable__content\"><pre>DecisionTreeClassifier()</pre></div></div></div></div></div>"
            ],
            "text/plain": [
              "DecisionTreeClassifier()"
            ]
          },
          "execution_count": 25,
          "metadata": {},
          "output_type": "execute_result"
        }
      ],
      "source": [
        "model.fit(x_train, y_train)"
      ]
    },
    {
      "cell_type": "code",
      "execution_count": null,
      "metadata": {
        "id": "e_6k5xjxHccy"
      },
      "outputs": [],
      "source": [
        "y_pred = model.predict(x_test)"
      ]
    },
    {
      "cell_type": "code",
      "execution_count": null,
      "metadata": {
        "colab": {
          "base_uri": "https://localhost:8080/"
        },
        "id": "2V4il7dHHccy",
        "outputId": "b0bba54a-624d-45bd-fd8d-6ca58ac4eb9c"
      },
      "outputs": [
        {
          "data": {
            "text/plain": [
              "0.9996185299096393"
            ]
          },
          "execution_count": 27,
          "metadata": {},
          "output_type": "execute_result"
        }
      ],
      "source": [
        "model.score(x_test, y_test)"
      ]
    },
    {
      "cell_type": "code",
      "execution_count": null,
      "metadata": {
        "colab": {
          "base_uri": "https://localhost:8080/"
        },
        "id": "_3EuFXteHccy",
        "outputId": "3c31b5dc-7f6c-473c-a775-793e91c1fde9"
      },
      "outputs": [
        {
          "data": {
            "text/plain": [
              "array([[209445,     46],\n",
              "       [    34,    190]], dtype=int64)"
            ]
          },
          "execution_count": 28,
          "metadata": {},
          "output_type": "execute_result"
        }
      ],
      "source": [
        "from sklearn.metrics import confusion_matrix\n",
        "\n",
        "cm = confusion_matrix(y_test, y_pred)\n",
        "cm"
      ]
    },
    {
      "cell_type": "code",
      "execution_count": null,
      "metadata": {
        "colab": {
          "base_uri": "https://localhost:8080/",
          "height": 449
        },
        "id": "voU9Z4-AHccz",
        "outputId": "7f948ae6-8b75-48b3-d27b-b06ee0e03486"
      },
      "outputs": [
        {
          "data": {
            "text/plain": [
              "<Axes: >"
            ]
          },
          "execution_count": 29,
          "metadata": {},
          "output_type": "execute_result"
        },
        {
          "data": {
            "image/png": "[encoded data removed]",
            "text/plain": [
              "<Figure size 640x480 with 2 Axes>"
            ]
          },
          "metadata": {},
          "output_type": "display_data"
        }
      ],
      "source": [
        "import matplotlib.pyplot as plt\n",
        "import seaborn as sns\n",
        "plt.xlabel('Predicted')\n",
        "plt.ylabel('Actual')\n",
        "sns.heatmap(cm, annot = True)"
      ]
    },
    {
      "cell_type": "code",
      "execution_count": null,
      "metadata": {
        "colab": {
          "base_uri": "https://localhost:8080/"
        },
        "id": "hqGxZofXHccz",
        "outputId": "04a7209b-e459-49f0-f6c8-cc7f9e85c843"
      },
      "outputs": [
        {
          "name": "stdout",
          "output_type": "stream",
          "text": [
            "              precision    recall  f1-score   support\n",
            "\n",
            "           0       1.00      1.00      1.00    209491\n",
            "           1       0.81      0.85      0.83       224\n",
            "\n",
            "    accuracy                           1.00    209715\n",
            "   macro avg       0.90      0.92      0.91    209715\n",
            "weighted avg       1.00      1.00      1.00    209715\n",
            "\n"
          ]
        }
      ],
      "source": [
        "from sklearn.metrics import classification_report\n",
        "\n",
        "cr = classification_report(y_test, y_pred)\n",
        "print(cr)"
      ]
    },
    {
      "cell_type": "code",
      "execution_count": null,
      "metadata": {
        "colab": {
          "base_uri": "https://localhost:8080/",
          "height": 424
        },
        "id": "U_Sf9PHGHcc0",
        "outputId": "9650b18d-51e5-48fa-ce8f-6c9a41f49e5b"
      },
      "outputs": [
        {
          "data": {
            "text/html": [
              "<div>\n",
              "<style scoped>\n",
              "    .dataframe tbody tr th:only-of-type {\n",
              "        vertical-align: middle;\n",
              "    }\n",
              "\n",
              "    .dataframe tbody tr th {\n",
              "        vertical-align: top;\n",
              "    }\n",
              "\n",
              "    .dataframe thead th {\n",
              "        text-align: right;\n",
              "    }\n",
              "</style>\n",
              "<table border=\"1\" class=\"dataframe\">\n",
              "  <thead>\n",
              "    <tr style=\"text-align: right;\">\n",
              "      <th></th>\n",
              "      <th>Actual Value</th>\n",
              "      <th>Predicted Value</th>\n",
              "    </tr>\n",
              "  </thead>\n",
              "  <tbody>\n",
              "    <tr>\n",
              "      <th>781974</th>\n",
              "      <td>0</td>\n",
              "      <td>0</td>\n",
              "    </tr>\n",
              "    <tr>\n",
              "      <th>937737</th>\n",
              "      <td>0</td>\n",
              "      <td>0</td>\n",
              "    </tr>\n",
              "    <tr>\n",
              "      <th>907828</th>\n",
              "      <td>0</td>\n",
              "      <td>0</td>\n",
              "    </tr>\n",
              "    <tr>\n",
              "      <th>784628</th>\n",
              "      <td>0</td>\n",
              "      <td>0</td>\n",
              "    </tr>\n",
              "    <tr>\n",
              "      <th>662460</th>\n",
              "      <td>0</td>\n",
              "      <td>0</td>\n",
              "    </tr>\n",
              "    <tr>\n",
              "      <th>...</th>\n",
              "      <td>...</td>\n",
              "      <td>...</td>\n",
              "    </tr>\n",
              "    <tr>\n",
              "      <th>673443</th>\n",
              "      <td>0</td>\n",
              "      <td>0</td>\n",
              "    </tr>\n",
              "    <tr>\n",
              "      <th>656736</th>\n",
              "      <td>0</td>\n",
              "      <td>0</td>\n",
              "    </tr>\n",
              "    <tr>\n",
              "      <th>858501</th>\n",
              "      <td>0</td>\n",
              "      <td>0</td>\n",
              "    </tr>\n",
              "    <tr>\n",
              "      <th>617079</th>\n",
              "      <td>0</td>\n",
              "      <td>0</td>\n",
              "    </tr>\n",
              "    <tr>\n",
              "      <th>487559</th>\n",
              "      <td>0</td>\n",
              "      <td>0</td>\n",
              "    </tr>\n",
              "  </tbody>\n",
              "</table>\n",
              "<p>209715 rows × 2 columns</p>\n",
              "</div>"
            ],
            "text/plain": [
              "        Actual Value  Predicted Value\n",
              "781974             0                0\n",
              "937737             0                0\n",
              "907828             0                0\n",
              "784628             0                0\n",
              "662460             0                0\n",
              "...              ...              ...\n",
              "673443             0                0\n",
              "656736             0                0\n",
              "858501             0                0\n",
              "617079             0                0\n",
              "487559             0                0\n",
              "\n",
              "[209715 rows x 2 columns]"
            ]
          },
          "execution_count": 31,
          "metadata": {},
          "output_type": "execute_result"
        }
      ],
      "source": [
        "predictions = pd.DataFrame({'Actual Value':y_test,'Predicted Value':y_pred})\n",
        "predictions"
      ]
    },
    {
      "cell_type": "code",
      "execution_count": null,
      "metadata": {
        "colab": {
          "base_uri": "https://localhost:8080/"
        },
        "id": "RVXmNby3QSLA",
        "outputId": "197219ea-b654-40fa-8962-a91de92b3b2a"
      },
      "outputs": [
        {
          "data": {
            "text/plain": [
              "['newonline_fraud.joblib']"
            ]
          },
          "execution_count": 32,
          "metadata": {},
          "output_type": "execute_result"
        }
      ],
      "source": [
        "from joblib import dump\n",
        "\n",
        "dump(model, 'newonline_fraud.joblib')"
      ]
    },
    {
      "cell_type": "code",
      "execution_count": null,
      "metadata": {
        "id": "ZHXACg2KXXQF"
      },
      "outputs": [],
      "source": []
    }
  ],
  "metadata": {
    "colab": {
      "provenance": []
    },
    "kernelspec": {
      "display_name": "base",
      "language": "python",
      "name": "python3"
    },
    "language_info": {
      "codemirror_mode": {
        "name": "ipython",
        "version": 3
      },
      "file_extension": ".py",
      "mimetype": "text/x-python",
      "name": "python",
      "nbconvert_exporter": "python",
      "pygments_lexer": "ipython3",
      "version": "3.11.3"
    }
  },
  "nbformat": 4,
  "nbformat_minor": 0
}